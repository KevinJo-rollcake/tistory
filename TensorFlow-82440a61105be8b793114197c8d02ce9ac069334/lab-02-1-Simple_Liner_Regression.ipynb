{
 "cells": [
  {
   "cell_type": "markdown",
   "metadata": {
    "slideshow": {
     "slide_type": "slide"
    }
   },
   "source": [
    "# 02 - Simple Liner Regression\n",
    "\n",
    "<img width=\"200\" src=\"https://i.imgur.com/hbPVe1T.png\">\n"
   ]
  },
  {
   "cell_type": "code",
   "execution_count": 1,
   "metadata": {
    "slideshow": {
     "slide_type": "slide"
    }
   },
   "outputs": [],
   "source": [
    "import tensorflow as tf\n",
    "import numpy as np"
   ]
  },
  {
   "cell_type": "markdown",
   "metadata": {
    "collapsed": true,
    "slideshow": {
     "slide_type": "slide"
    }
   },
   "source": [
    "# Hypothesis and Cost\n",
    "### Hypothesis \n",
    "$$ H(x) = Wx + b $$\n",
    "\n",
    "\n",
    "### Cost\n",
    "$$ cost(W)=\\frac { 1 }{ m } \\sum _{i=1}^{m}{ { (W{ x }^{ i }-y^{ i } })^{ 2 } }  $$\n",
    "\n",
    "* Which Hypothesis is better ?\n",
    "* cost function: 편차제곱의 평균\n",
    "* learning의 목표는 cost(W,b)를 최소화하는 (W,b)를 구하는 것\n"
   ]
  },
  {
   "cell_type": "code",
   "execution_count": 1,
   "metadata": {
    "slideshow": {
     "slide_type": "slide"
    }
   },
   "outputs": [
    {
     "name": "stdout",
     "output_type": "stream",
     "text": [
      "0 0.021165216 [0.9768667] [0.1905179]\n",
      "30 0.00094205124 [0.9643522] [0.08103587]\n",
      "60 0.00021878286 [0.9828208] [0.03905234]\n",
      "90 5.0810035e-05 [0.99172115] [0.01881986]\n",
      "120 1.1800398e-05 [0.9960103] [0.00906954]\n",
      "150 2.7407639e-06 [0.9980773] [0.00437076]\n",
      "180 6.3646576e-07 [0.99907345] [0.00210634]\n",
      "210 1.477923e-07 [0.9995535] [0.0010151]\n",
      "240 3.4324824e-08 [0.9997848] [0.00048916]\n",
      "270 7.965265e-09 [0.9998963] [0.00023569]\n",
      "300 1.8508265e-09 [0.99995] [0.00011358]\n",
      "330 4.2869885e-10 [0.9999759] [5.47589e-05]\n",
      "360 9.924861e-11 [0.9999884] [2.6355296e-05]\n",
      "390 2.3211063e-11 [0.9999944] [1.27257e-05]\n",
      "420 5.366966e-12 [0.9999973] [6.121506e-06]\n",
      "450 1.2505552e-12 [0.9999987] [2.9425917e-06]\n",
      "480 3.2684966e-13 [0.99999934] [1.4405549e-06]\n",
      "510 6.158037e-14 [0.99999964] [7.570888e-07]\n",
      "540 6.158037e-14 [0.99999976] [5.504595e-07]\n",
      "570 4.7369517e-15 [0.99999994] [1.9283151e-07]\n",
      "600 0.0 [1.] [5.772759e-08]\n",
      "630 0.0 [1.] [5.772759e-08]\n",
      "660 0.0 [1.] [5.772759e-08]\n",
      "690 0.0 [1.] [5.772759e-08]\n",
      "720 0.0 [1.] [5.772759e-08]\n",
      "750 0.0 [1.] [5.772759e-08]\n",
      "780 0.0 [1.] [5.772759e-08]\n",
      "810 0.0 [1.] [5.772759e-08]\n",
      "840 0.0 [1.] [5.772759e-08]\n",
      "870 0.0 [1.] [5.772759e-08]\n",
      "900 0.0 [1.] [5.772759e-08]\n",
      "930 0.0 [1.] [5.772759e-08]\n",
      "960 0.0 [1.] [5.772759e-08]\n",
      "990 0.0 [1.] [5.772759e-08]\n"
     ]
    }
   ],
   "source": [
    "import tensorflow as tf\n",
    "\n",
    "x_data = [1, 2, 3]\n",
    "y_data = [1, 2, 3]\n",
    "\n",
    "# (W=1, b=0 가 되어야 한다는 것은 미리 알고 있다) \n",
    "W = tf.Variable(tf.random_uniform([1], -1.0, 1.0))\n",
    "b = tf.Variable(tf.random_uniform([1], -1.0, 1.0))\n",
    "\n",
    "hypothesis = W * x_data + b\n",
    "\n",
    "cost = tf.reduce_mean(tf.square(hypothesis - y_data))\n",
    "\n",
    "a = tf.Variable(0.1)\n",
    "optimizer = tf.train.GradientDescentOptimizer(a)\n",
    "train = optimizer.minimize(cost)\n",
    "\n",
    "sess = tf.Session()\n",
    "sess.run(tf.initializers.global_variables())\n",
    "\n",
    "for step in range(1000):\n",
    "    sess.run(train)\n",
    "    if step % 30 == 0:\n",
    "        print(step, sess.run(cost), sess.run(W), sess.run(b))"
   ]
  },
  {
   "cell_type": "markdown",
   "metadata": {
    "slideshow": {
     "slide_type": "slide"
    }
   },
   "source": [
    "# placeholder"
   ]
  },
  {
   "cell_type": "code",
   "execution_count": 2,
   "metadata": {
    "slideshow": {
     "slide_type": "-"
    }
   },
   "outputs": [
    {
     "name": "stdout",
     "output_type": "stream",
     "text": [
      "0 0.23415472 [0.74881464] [0.94065374]\n",
      "30 0.025842478 [0.81329197] [0.4244312]\n",
      "60 0.006001683 [0.91002274] [0.20453936]\n",
      "90 0.0013938443 [0.9566387] [0.09857045]\n",
      "120 0.00032370738 [0.97910357] [0.04750248]\n",
      "150 7.5177835e-05 [0.9899297] [0.02289217]\n",
      "180 1.7459637e-05 [0.995147] [0.01103208]\n",
      "210 4.0546915e-06 [0.9976613] [0.00531649]\n",
      "240 9.417765e-07 [0.99887294] [0.00256211]\n",
      "270 2.1865871e-07 [0.9994569] [0.00123471]\n",
      "300 5.0772787e-08 [0.9997383] [0.00059503]\n",
      "330 1.1799879e-08 [0.9998739] [0.0002868]\n",
      "360 2.7365417e-09 [0.9999392] [0.00013821]\n",
      "390 6.3606365e-10 [0.99997073] [6.660059e-05]\n",
      "420 1.4789237e-10 [0.9999859] [3.210142e-05]\n",
      "450 3.4811858e-11 [0.9999932] [1.548364e-05]\n",
      "480 8.000711e-12 [0.9999967] [7.480722e-06]\n",
      "510 1.9184654e-12 [0.9999984] [3.5944997e-06]\n",
      "540 4.92643e-13 [0.9999992] [1.734835e-06]\n",
      "570 9.473903e-14 [0.9999996] [8.526869e-07]\n",
      "600 6.158037e-14 [0.9999997] [5.98374e-07]\n",
      "630 3.7895614e-14 [0.99999994] [2.7253517e-07]\n",
      "660 0.0 [1.] [5.7958374e-08]\n",
      "690 0.0 [1.] [5.7958374e-08]\n",
      "720 0.0 [1.] [5.7958374e-08]\n",
      "750 0.0 [1.] [5.7958374e-08]\n",
      "780 0.0 [1.] [5.7958374e-08]\n",
      "810 0.0 [1.] [5.7958374e-08]\n",
      "840 0.0 [1.] [5.7958374e-08]\n",
      "870 0.0 [1.] [5.7958374e-08]\n",
      "900 0.0 [1.] [5.7958374e-08]\n",
      "930 0.0 [1.] [5.7958374e-08]\n",
      "960 0.0 [1.] [5.7958374e-08]\n",
      "990 0.0 [1.] [5.7958374e-08]\n"
     ]
    }
   ],
   "source": [
    "import tensorflow as tf\n",
    "\n",
    "x_data = [1, 2, 3]\n",
    "y_data = [1, 2, 3]\n",
    "\n",
    "W = tf.Variable(tf.random_uniform([1], -1.0, 1.0))\n",
    "b = tf.Variable(tf.random_uniform([1], -1.0, 1.0))\n",
    "\n",
    "X = tf.placeholder(tf.float32)\n",
    "Y = tf.placeholder(tf.float32)\n",
    "\n",
    "hypothesis = W * X + b\n",
    "cost = tf.reduce_mean(tf.square(hypothesis - Y))\n",
    "\n",
    "a = tf.Variable(0.1) \n",
    "optimizer = tf.train.GradientDescentOptimizer(a)\n",
    "train = optimizer.minimize(cost)\n",
    "\n",
    "sess = tf.Session()\n",
    "sess.run(tf.initializers.global_variables())\n",
    "\n",
    "for step in range(1000):\n",
    "    sess.run(train, feed_dict={X: x_data, Y: y_data})\n",
    "    if step % 30 == 0:\n",
    "        print(step, sess.run(cost, feed_dict={X: x_data, Y: y_data}), sess.run(W), sess.run(b))"
   ]
  },
  {
   "cell_type": "code",
   "execution_count": 3,
   "metadata": {},
   "outputs": [
    {
     "name": "stdout",
     "output_type": "stream",
     "text": [
      "[5.]\n",
      "[2.5]\n"
     ]
    }
   ],
   "source": [
    "print(sess.run(hypothesis, feed_dict={X: 5}))\n",
    "print(sess.run(hypothesis, feed_dict={X: 2.5}))"
   ]
  }
 ],
 "metadata": {
  "celltoolbar": "Slideshow",
  "kernelspec": {
   "display_name": "Python 3",
   "language": "python",
   "name": "python3"
  },
  "language_info": {
   "codemirror_mode": {
    "name": "ipython",
    "version": 3
   },
   "file_extension": ".py",
   "mimetype": "text/x-python",
   "name": "python",
   "nbconvert_exporter": "python",
   "pygments_lexer": "ipython3",
   "version": "3.6.7"
  }
 },
 "nbformat": 4,
 "nbformat_minor": 1
}
