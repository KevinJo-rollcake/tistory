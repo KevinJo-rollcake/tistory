{
 "cells": [
  {
   "cell_type": "markdown",
   "metadata": {},
   "source": [
    "# Lab 12-4 many to many variable\n",
    "### simple pos-tagger training \n",
    "* many to many\n",
    "* variable input sequence length"
   ]
  },
  {
   "cell_type": "code",
   "execution_count": 1,
   "metadata": {},
   "outputs": [],
   "source": [
    "import tensorflow as tf\n",
    "import numpy as np\n",
    "from tensorflow.keras.preprocessing.sequence import pad_sequences\n",
    "tf.set_random_seed(777)"
   ]
  },
  {
   "cell_type": "markdown",
   "metadata": {},
   "source": [
    "### Prepairing dataset"
   ]
  },
  {
   "cell_type": "code",
   "execution_count": 2,
   "metadata": {},
   "outputs": [],
   "source": [
    "sentences = [['I', 'feel', 'hungry'],\n",
    "     ['tensorflow', 'is', 'very', 'difficult'],\n",
    "     ['tensorflow', 'is', 'a', 'framework', 'for', 'deep', 'learning'],\n",
    "     ['tensorflow', 'is', 'very', 'fast', 'changing']]\n",
    "pos = [['pronoun', 'verb', 'adjective'],\n",
    "     ['noun', 'verb', 'adverb', 'adjective'],\n",
    "     ['noun', 'verb', 'determiner', 'noun', 'preposition', 'adjective', 'noun'],\n",
    "     ['noun', 'verb', 'adverb', 'adjective', 'verb']]"
   ]
  },
  {
   "cell_type": "markdown",
   "metadata": {},
   "source": [
    "### Preprocessing dataset"
   ]
  },
  {
   "cell_type": "code",
   "execution_count": 3,
   "metadata": {},
   "outputs": [
    {
     "name": "stdout",
     "output_type": "stream",
     "text": [
      "{'<pad>': 0, 'I': 1, 'a': 2, 'changing': 3, 'deep': 4, 'difficult': 5, 'fast': 6, 'feel': 7, 'for': 8, 'framework': 9, 'hungry': 10, 'is': 13, 'learning': 14, 'tensorflow': 17, 'very': 19}\n",
      "{0: '<pad>', 1: 'I', 2: 'a', 3: 'changing', 4: 'deep', 5: 'difficult', 6: 'fast', 7: 'feel', 8: 'for', 9: 'framework', 10: 'hungry', 11: 'is', 12: 'is', 13: 'is', 14: 'learning', 15: 'tensorflow', 16: 'tensorflow', 17: 'tensorflow', 18: 'very', 19: 'very'}\n"
     ]
    }
   ],
   "source": [
    "# word의 dictionary\n",
    "word_list = sum(sentences, [])\n",
    "word_list.sort()\n",
    "word_list = ['<pad>'] + word_list\n",
    "word2idx = {word : idx for idx, word in enumerate(word_list)}\n",
    "idx2word = {idx : word for idx, word in enumerate(word_list)}\n",
    "\n",
    "print(word2idx)\n",
    "print(idx2word)"
   ]
  },
  {
   "cell_type": "code",
   "execution_count": 4,
   "metadata": {},
   "outputs": [
    {
     "name": "stdout",
     "output_type": "stream",
     "text": [
      "{'<pad>': 0, 'adjective': 4, 'adverb': 6, 'determiner': 7, 'noun': 12, 'preposition': 13, 'pronoun': 14, 'verb': 19}\n",
      "{0: '<pad>', 1: 'adjective', 2: 'adjective', 3: 'adjective', 4: 'adjective', 5: 'adverb', 6: 'adverb', 7: 'determiner', 8: 'noun', 9: 'noun', 10: 'noun', 11: 'noun', 12: 'noun', 13: 'preposition', 14: 'pronoun', 15: 'verb', 16: 'verb', 17: 'verb', 18: 'verb', 19: 'verb'}\n"
     ]
    }
   ],
   "source": [
    "# pos (part of speech)의 dictionary\n",
    "pos_list = sum(pos, [])\n",
    "pos_list.sort()\n",
    "pos_list = ['<pad>'] + pos_list\n",
    "pos2idx = {pos : idx for idx, pos in enumerate(pos_list)}\n",
    "idx2pos = {idx : pos for idx, pos in enumerate(pos_list)}\n",
    "\n",
    "print(pos2idx)\n",
    "print(idx2pos)"
   ]
  },
  {
   "cell_type": "code",
   "execution_count": 5,
   "metadata": {},
   "outputs": [],
   "source": [
    "max_length = 10\n",
    "x_data = list(map(lambda sentence : [word2idx.get(token) for token in sentence], sentences))\n",
    "x_data = pad_sequences(sequences = x_data, maxlen = max_length, padding = 'post', truncating = 'post')\n",
    "x_len = list(map(lambda sentence : len(sentence), sentences))\n",
    "\n",
    "y_data = list(map(lambda sentence : [pos2idx.get(token) for token in sentence], pos))\n",
    "y_data = pad_sequences(sequences = y_data, maxlen = max_length, padding = 'post', truncating = 'post')"
   ]
  },
  {
   "cell_type": "markdown",
   "metadata": {},
   "source": [
    "### Creating graph"
   ]
  },
  {
   "cell_type": "code",
   "execution_count": 6,
   "metadata": {},
   "outputs": [],
   "source": [
    "# hyper-parameters\n",
    "epochs = 10\n",
    "batch_size = 2\n",
    "lr = 0.5\n",
    "\n",
    "# input\n",
    "data = tf.data.Dataset.from_tensor_slices((x_len, x_data, y_data))\n",
    "data = data.shuffle(buffer_size = 10)\n",
    "data = data.batch(batch_size = batch_size)\n",
    "iterator = data.make_initializable_iterator()\n",
    "x_mb_len, x_mb, y_mb = iterator.get_next()"
   ]
  },
  {
   "cell_type": "code",
   "execution_count": 7,
   "metadata": {},
   "outputs": [],
   "source": [
    "# hyper-parameters for lstm (many to many), one-hot encoding\n",
    "n_of_classes = len(idx2pos)\n",
    "hidden_size = 10\n",
    "\n",
    "one_hot_encoding = tf.eye(num_rows = len(idx2word), dtype = tf.float32)\n",
    "one_hot_encoding = tf.get_variable(name = 'one_hot_encoding',\n",
    "                                   initializer = one_hot_encoding, trainable = False)\n",
    "\n",
    "x_mb_batch = tf.nn.embedding_lookup(params = one_hot_encoding, ids = x_mb)\n",
    "lstm_cell = tf.nn.rnn_cell.LSTMCell(num_units = hidden_size, dtype = tf.float32)\n",
    "score_cell = tf.contrib.rnn.OutputProjectionWrapper(cell = lstm_cell, output_size = n_of_classes)\n",
    "outputs, _ = tf.nn.dynamic_rnn(cell = score_cell, inputs = x_mb_batch, dtype = tf.float32,\n",
    "                               sequence_length = x_mb_len)"
   ]
  },
  {
   "cell_type": "code",
   "execution_count": 8,
   "metadata": {},
   "outputs": [],
   "source": [
    "# loss\n",
    "masking = tf.sequence_mask(lengths = x_mb_len, maxlen = max_length, dtype = tf.float32)\n",
    "s2s_loss = tf.contrib.seq2seq.sequence_loss(logits = outputs, targets = y_mb, weights = masking)\n",
    "prediction = tf.argmax(input = outputs, axis = -1)"
   ]
  },
  {
   "cell_type": "code",
   "execution_count": 9,
   "metadata": {},
   "outputs": [],
   "source": [
    "# training\n",
    "opt = tf.train.AdamOptimizer(learning_rate = lr)\n",
    "training_op = opt.minimize(loss = s2s_loss)"
   ]
  },
  {
   "cell_type": "markdown",
   "metadata": {},
   "source": [
    "### Training"
   ]
  },
  {
   "cell_type": "code",
   "execution_count": 10,
   "metadata": {},
   "outputs": [],
   "source": [
    "sess_config = tf.ConfigProto(gpu_options=tf.GPUOptions(allow_growth=True))\n",
    "sess = tf.Session(config = sess_config)\n",
    "sess.run(tf.global_variables_initializer())"
   ]
  },
  {
   "cell_type": "code",
   "execution_count": 11,
   "metadata": {},
   "outputs": [
    {
     "name": "stdout",
     "output_type": "stream",
     "text": [
      "epoch :   1, loss : 2.450\n",
      "epoch :   2, loss : 2.020\n",
      "epoch :   3, loss : 1.266\n",
      "epoch :   4, loss : 0.607\n",
      "epoch :   5, loss : 0.361\n",
      "epoch :   6, loss : 0.217\n",
      "epoch :   7, loss : 0.134\n",
      "epoch :   8, loss : 0.089\n",
      "epoch :   9, loss : 0.052\n",
      "epoch :  10, loss : 0.027\n"
     ]
    }
   ],
   "source": [
    "tr_loss_hist = []\n",
    "\n",
    "for epoch in range(epochs):\n",
    "    \n",
    "    sess.run(iterator.initializer)\n",
    "    avg_tr_loss = 0\n",
    "    step = 0\n",
    "    \n",
    "    try:\n",
    "        while True:\n",
    "            _, loss = sess.run([training_op, s2s_loss])\n",
    "            avg_tr_loss += loss\n",
    "            step += 1\n",
    "    except:\n",
    "        avg_tr_loss /= step\n",
    "        tr_loss_hist.append(avg_tr_loss)\n",
    "        \n",
    "    print('epoch : {:3}, loss : {:.3f}'.format(epoch + 1, avg_tr_loss))"
   ]
  },
  {
   "cell_type": "markdown",
   "metadata": {},
   "source": [
    "### Accuracy"
   ]
  },
  {
   "cell_type": "code",
   "execution_count": 12,
   "metadata": {},
   "outputs": [],
   "source": [
    "yhat = sess.run(prediction, feed_dict = {x_mb_len : x_len, x_mb : x_data})"
   ]
  },
  {
   "cell_type": "code",
   "execution_count": 13,
   "metadata": {},
   "outputs": [
    {
     "name": "stdout",
     "output_type": "stream",
     "text": [
      "prediction : [[14 19  4  0  0  0  0  0  0  0]\n",
      " [12 19  6  4  0  0  0  0  0  0]\n",
      " [12 19  7 12 13  4 12  0  0  0]\n",
      " [12 19  6  4 19  0  0  0  0  0]]\n"
     ]
    }
   ],
   "source": [
    "print('prediction : {}'.format(yhat))"
   ]
  },
  {
   "cell_type": "code",
   "execution_count": 14,
   "metadata": {},
   "outputs": [
    {
     "name": "stdout",
     "output_type": "stream",
     "text": [
      "true : [[14 19  4  0  0  0  0  0  0  0]\n",
      " [12 19  6  4  0  0  0  0  0  0]\n",
      " [12 19  7 12 13  4 12  0  0  0]\n",
      " [12 19  6  4 19  0  0  0  0  0]]\n"
     ]
    }
   ],
   "source": [
    "print('true : {}'.format(y_data))"
   ]
  },
  {
   "cell_type": "code",
   "execution_count": 15,
   "metadata": {},
   "outputs": [
    {
     "name": "stdout",
     "output_type": "stream",
     "text": [
      "accuracy : 100.00%\n"
     ]
    }
   ],
   "source": [
    "print('accuracy : {:.2%}'.format(np.mean(np.all(yhat == y_data, axis = -1))))"
   ]
  }
 ],
 "metadata": {
  "kernelspec": {
   "display_name": "Python 3",
   "language": "python",
   "name": "python3"
  },
  "language_info": {
   "codemirror_mode": {
    "name": "ipython",
    "version": 3
   },
   "file_extension": ".py",
   "mimetype": "text/x-python",
   "name": "python",
   "nbconvert_exporter": "python",
   "pygments_lexer": "ipython3",
   "version": "3.6.6"
  }
 },
 "nbformat": 4,
 "nbformat_minor": 2
}
