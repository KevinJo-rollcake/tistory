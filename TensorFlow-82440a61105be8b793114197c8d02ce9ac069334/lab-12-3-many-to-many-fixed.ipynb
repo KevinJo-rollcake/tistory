{
 "cells": [
  {
   "cell_type": "markdown",
   "metadata": {},
   "source": [
    "# Lab 12-3 many to many fixed\n",
    "### hihello training \n",
    "* many to many\n",
    "* fixed input sequence length"
   ]
  },
  {
   "cell_type": "code",
   "execution_count": 1,
   "metadata": {},
   "outputs": [],
   "source": [
    "import tensorflow as tf\n",
    "from pprint import pprint\n",
    "tf.set_random_seed(777)"
   ]
  },
  {
   "cell_type": "markdown",
   "metadata": {},
   "source": [
    "### Prepairing dataset\n",
    "hih -> ihe, ihe -> hel, hel -> ell, ell -> llo"
   ]
  },
  {
   "cell_type": "code",
   "execution_count": 2,
   "metadata": {},
   "outputs": [],
   "source": [
    "strings = 'hihello'\n",
    "char_set = sorted(list(set('hihello' + 'hello')))\n",
    "idx2char = {idx : char for idx, char in enumerate(char_set)}\n",
    "char2idx = {char : idx for idx, char in enumerate(char_set)}"
   ]
  },
  {
   "cell_type": "code",
   "execution_count": 3,
   "metadata": {},
   "outputs": [
    {
     "name": "stdout",
     "output_type": "stream",
     "text": [
      "['hih', 'ihe', 'hel', 'ell'] ['ihe', 'hel', 'ell', 'llo']\n"
     ]
    }
   ],
   "source": [
    "data = []\n",
    "for i in range(len(strings) -2):\n",
    "    data.append(strings[i:i+3])\n",
    "\n",
    "x_strings = data[0:4]\n",
    "y_strings = data[1:5]\n",
    "\n",
    "print(x_strings, y_strings)"
   ]
  },
  {
   "cell_type": "markdown",
   "metadata": {},
   "source": [
    "### Preprocessing dataset"
   ]
  },
  {
   "cell_type": "code",
   "execution_count": 4,
   "metadata": {},
   "outputs": [
    {
     "name": "stdout",
     "output_type": "stream",
     "text": [
      "[[1, 2, 1], [2, 1, 0], [1, 0, 3], [0, 3, 3]]\n",
      "[[1, 2, 1], [2, 1, 0], [1, 0, 3], [0, 3, 3]]\n"
     ]
    }
   ],
   "source": [
    "x_data = list(map(lambda strings : [char2idx.get(char) for char in strings], x_strings))\n",
    "y_data = list(map(lambda strings : [char2idx.get(char) for char in strings], x_strings))\n",
    "\n",
    "# data 형태확인\n",
    "print(x_data)\n",
    "print(y_data)"
   ]
  },
  {
   "cell_type": "markdown",
   "metadata": {},
   "source": [
    "### Creating graph"
   ]
  },
  {
   "cell_type": "code",
   "execution_count": 5,
   "metadata": {},
   "outputs": [],
   "source": [
    "# input\n",
    "data = tf.data.Dataset.from_tensor_slices((x_data, y_data))\n",
    "data = data.shuffle(buffer_size = 4)\n",
    "data = data.batch(batch_size = 2)\n",
    "iterator = data.make_initializable_iterator()\n",
    "x_mb, y_mb = iterator.get_next()"
   ]
  },
  {
   "cell_type": "code",
   "execution_count": 6,
   "metadata": {},
   "outputs": [],
   "source": [
    "# hyper-parameters for lstm (many to many), one-hot encoding\n",
    "n_of_classes = len(idx2char)\n",
    "hidden_size = 10\n",
    "\n",
    "one_hot_encoding = tf.eye(num_rows = n_of_classes, dtype = tf.float32)\n",
    "one_hot_encoding = tf.get_variable(name = 'one_hot_encoding',\n",
    "                                   initializer = one_hot_encoding, trainable = False)\n",
    "\n",
    "x_mb_batch = tf.nn.embedding_lookup(params = one_hot_encoding, ids = x_mb)\n",
    "lstm_cell = tf.nn.rnn_cell.LSTMCell(num_units = hidden_size, dtype = tf.float32)\n",
    "score_cell = tf.contrib.rnn.OutputProjectionWrapper(cell = lstm_cell, output_size = n_of_classes)\n",
    "outputs, _ = tf.nn.dynamic_rnn(cell = score_cell, inputs = x_mb_batch, dtype = tf.float32)"
   ]
  },
  {
   "cell_type": "code",
   "execution_count": 7,
   "metadata": {},
   "outputs": [],
   "source": [
    "weights = tf.ones_like(tensor = x_mb, dtype = tf.float32)\n",
    "s2s_loss = tf.contrib.seq2seq.sequence_loss(logits = outputs, targets = y_mb, weights = weights)\n",
    "prediction = tf.argmax(input = outputs, axis = -1)"
   ]
  },
  {
   "cell_type": "code",
   "execution_count": 8,
   "metadata": {},
   "outputs": [],
   "source": [
    "# training\n",
    "lr = .1\n",
    "opt = tf.train.AdamOptimizer(learning_rate = lr)\n",
    "training_op = opt.minimize(loss = s2s_loss)"
   ]
  },
  {
   "cell_type": "markdown",
   "metadata": {},
   "source": [
    "### Training"
   ]
  },
  {
   "cell_type": "code",
   "execution_count": 9,
   "metadata": {},
   "outputs": [],
   "source": [
    "sess_config = tf.ConfigProto(gpu_options=tf.GPUOptions(allow_growth=True))\n",
    "sess = tf.Session(config = sess_config)\n",
    "sess.run(tf.global_variables_initializer())"
   ]
  },
  {
   "cell_type": "code",
   "execution_count": 10,
   "metadata": {},
   "outputs": [
    {
     "name": "stdout",
     "output_type": "stream",
     "text": [
      "epoch :   1, loss : 1.581\n",
      "epoch :   2, loss : 1.221\n",
      "epoch :   3, loss : 0.820\n",
      "epoch :   4, loss : 0.449\n",
      "epoch :   5, loss : 0.208\n",
      "epoch :   6, loss : 0.086\n",
      "epoch :   7, loss : 0.033\n",
      "epoch :   8, loss : 0.012\n",
      "epoch :   9, loss : 0.005\n",
      "epoch :  10, loss : 0.003\n"
     ]
    }
   ],
   "source": [
    "epochs = 10\n",
    "tr_loss_hist = []\n",
    "\n",
    "for epoch in range(epochs):\n",
    "    \n",
    "    sess.run(iterator.initializer)\n",
    "    avg_tr_loss = 0\n",
    "    step = 0\n",
    "    \n",
    "    try:\n",
    "        while True:\n",
    "            _, loss = sess.run([training_op, s2s_loss])\n",
    "            avg_tr_loss += loss\n",
    "            step += 1\n",
    "    except:\n",
    "        avg_tr_loss /= step\n",
    "        tr_loss_hist.append(avg_tr_loss)\n",
    "        \n",
    "    print('epoch : {:3}, loss : {:.3f}'.format(epoch + 1, avg_tr_loss))"
   ]
  },
  {
   "cell_type": "markdown",
   "metadata": {},
   "source": [
    "### Accuracy"
   ]
  },
  {
   "cell_type": "code",
   "execution_count": 11,
   "metadata": {},
   "outputs": [],
   "source": [
    "yhat = sess.run(prediction, feed_dict = {x_mb : x_data})"
   ]
  },
  {
   "cell_type": "code",
   "execution_count": 12,
   "metadata": {},
   "outputs": [
    {
     "name": "stdout",
     "output_type": "stream",
     "text": [
      "true : [[1, 2, 1], [2, 1, 0], [1, 0, 3], [0, 3, 3]], \n",
      " prediction : [[1 2 1]\n",
      " [2 1 0]\n",
      " [1 0 3]\n",
      " [0 3 3]]\n"
     ]
    }
   ],
   "source": [
    "print('true : {}, \\n prediction : {}'.format(y_data, yhat))"
   ]
  }
 ],
 "metadata": {
  "kernelspec": {
   "display_name": "Python 3",
   "language": "python",
   "name": "python3"
  },
  "language_info": {
   "codemirror_mode": {
    "name": "ipython",
    "version": 3
   },
   "file_extension": ".py",
   "mimetype": "text/x-python",
   "name": "python",
   "nbconvert_exporter": "python",
   "pygments_lexer": "ipython3",
   "version": "3.6.6"
  }
 },
 "nbformat": 4,
 "nbformat_minor": 2
}
