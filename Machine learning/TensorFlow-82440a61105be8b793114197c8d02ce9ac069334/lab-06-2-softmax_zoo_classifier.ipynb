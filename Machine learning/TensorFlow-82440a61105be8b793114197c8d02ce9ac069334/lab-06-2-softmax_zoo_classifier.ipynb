{
 "cells": [
  {
   "cell_type": "markdown",
   "metadata": {},
   "source": [
    "# Lab 06 Softmax Zoo_classifier\n",
    "\n",
    "* Softmax를 사용하여분류를 진행합니다.\n",
    "\n",
    "### 기본 Library 선언 및 Tensorflow 버전 확인"
   ]
  },
  {
   "cell_type": "code",
   "execution_count": 1,
   "metadata": {
    "scrolled": true
   },
   "outputs": [],
   "source": [
    "import tensorflow as tf\n",
    "import numpy as np\n",
    "tf.enable_eager_execution()\n",
    "tf.set_random_seed(777)  # for reproducibility\n",
    "tfe = tf.contrib.eager"
   ]
  },
  {
   "cell_type": "code",
   "execution_count": 2,
   "metadata": {},
   "outputs": [
    {
     "name": "stdout",
     "output_type": "stream",
     "text": [
      "(101, 16) (101, 1)\n"
     ]
    }
   ],
   "source": [
    "xy = np.loadtxt('data-04-zoo.csv', delimiter=',', dtype=np.float32)\n",
    "x_data = xy[:, 0:-1]\n",
    "y_data = xy[:, [-1]]\n",
    "\n",
    "print(x_data.shape, y_data.shape)\n",
    "\n",
    "nb_classes = 7  # 0 ~ 6\n",
    "\n",
    "# Make Y data as onehot shape\n",
    "Y_one_hot = tf.one_hot(list(y_data), nb_classes)\n",
    "Y_one_hot = tf.reshape(Y_one_hot, [-1, nb_classes])"
   ]
  },
  {
   "cell_type": "code",
   "execution_count": 60,
   "metadata": {},
   "outputs": [],
   "source": [
    "class softmax_classifer(tf.keras.Model):\n",
    "    def __init__(self, nb_classes):\n",
    "        super(softmax_classifer, self).__init__()\n",
    "        self.W = tfe.Variable(tf.random_normal([16, nb_classes]), name='weight')\n",
    "        self.b = tfe.Variable(tf.random_normal([nb_classes]), name='bias')\n",
    "        \n",
    "    def softmax_regression(self, X):\n",
    "        # tf.nn.softmax computes softmax activations\n",
    "        # softmax = exp(logits) / reduce_sum(exp(logits), dim)\n",
    "        logits = tf.matmul(X, self.W) + self.b\n",
    "        return tf.nn.softmax(logits)\n",
    "    \n",
    "    def loss_fn(self, X, Y):\n",
    "        logits = self.softmax_regression(X)\n",
    "        cost_i = tf.nn.softmax_cross_entropy_with_logits_v2(logits=logits,\n",
    "                                                           labels=tf.stop_gradient([Y]))\n",
    "        return cost_i\n",
    "    \n",
    "    def grad_fn(self, X, Y):\n",
    "        with tf.GradientTape() as tape:\n",
    "            loss = self.loss_fn(X, Y)\n",
    "            grads = tape.gradient(loss, self.variables)\n",
    "            \n",
    "            return grads\n",
    "    \n",
    "    def prediction(self, X, Y):\n",
    "        pred = tf.argmax(self.softmax_regression(X), 1)\n",
    "        correct_prediction = tf.equal(pred, tf.argmax(Y, 1))\n",
    "        accuracy = tf.reduce_mean(tf.cast(correct_prediction, tf.float32))\n",
    "        \n",
    "        return accuracy\n",
    "    \n",
    "    def fit(self, X, Y, epochs=100, verbose=50):\n",
    "        optimizer =  tf.train.GradientDescentOptimizer(learning_rate=0.1)\n",
    "        \n",
    "        for i in range(epochs):\n",
    "            grads = self.grad_fn(X, Y)\n",
    "            optimizer.apply_gradients(zip(grads, self.variables))\n",
    "            if (i==0) | ((i+1)%verbose==0):\n",
    "                acc = self.prediction(X, Y).numpy()\n",
    "                loss = tf.reduce_sum(self.loss_fn(X, Y)).numpy()\n",
    "                \n",
    "                print('Loss & Acc at {} epoch {}, {}'.format(i+1, loss, acc))"
   ]
  },
  {
   "cell_type": "code",
   "execution_count": 61,
   "metadata": {},
   "outputs": [],
   "source": [
    "optimizer = tf.train.GradientDescentOptimizer(learning_rate=0.1)\n",
    "model = softmax_classifer(nb_classes)"
   ]
  },
  {
   "cell_type": "code",
   "execution_count": 62,
   "metadata": {},
   "outputs": [
    {
     "name": "stdout",
     "output_type": "stream",
     "text": [
      "Loss & Acc at 1 epoch 202.84336853027344, 0.12871287763118744\n",
      "Loss & Acc at 50 epoch 133.19210815429688, 0.8613861203193665\n",
      "Loss & Acc at 100 epoch 131.25213623046875, 0.8712871074676514\n"
     ]
    }
   ],
   "source": [
    "model.fit(x_data, Y_one_hot)"
   ]
  },
  {
   "cell_type": "code",
   "execution_count": null,
   "metadata": {},
   "outputs": [],
   "source": []
  }
 ],
 "metadata": {
  "kernelspec": {
   "display_name": "Python 3",
   "language": "python",
   "name": "python3"
  },
  "language_info": {
   "codemirror_mode": {
    "name": "ipython",
    "version": 3
   },
   "file_extension": ".py",
   "mimetype": "text/x-python",
   "name": "python",
   "nbconvert_exporter": "python",
   "pygments_lexer": "ipython3",
   "version": "3.6.5"
  }
 },
 "nbformat": 4,
 "nbformat_minor": 2
}
